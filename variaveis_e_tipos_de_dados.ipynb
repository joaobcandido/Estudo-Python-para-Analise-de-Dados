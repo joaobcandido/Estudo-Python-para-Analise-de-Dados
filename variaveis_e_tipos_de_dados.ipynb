{
  "nbformat": 4,
  "nbformat_minor": 0,
  "metadata": {
    "colab": {
      "provenance": [],
      "toc_visible": true,
      "authorship_tag": "ABX9TyN+2QJNYy89HdRjcKPfqje6",
      "include_colab_link": true
    },
    "kernelspec": {
      "name": "python3",
      "display_name": "Python 3"
    },
    "language_info": {
      "name": "python"
    }
  },
  "cells": [
    {
      "cell_type": "markdown",
      "metadata": {
        "id": "view-in-github",
        "colab_type": "text"
      },
      "source": [
        "<a href=\"https://colab.research.google.com/github/joaobcandido/Estudo-Python-para-Analise-de-Dados/blob/main/variaveis_e_tipos_de_dados.ipynb\" target=\"_parent\"><img src=\"https://colab.research.google.com/assets/colab-badge.svg\" alt=\"Open In Colab\"/></a>"
      ]
    },
    {
      "cell_type": "markdown",
      "source": [
        "# **Variaveis e Tipos de Dados em Python**\n",
        "---\n",
        "Caderno de **Estudo**<br>\n",
        "João Cândido\n"
      ],
      "metadata": {
        "id": "xBZj81rYnp9D"
      }
    },
    {
      "cell_type": "markdown",
      "source": [
        "# **Tópicos**\n",
        "\n",
        "<ol>\n",
        "<li>Variáveis\n",
        "<li>Números\n",
        "<li>Strings\n",
        "<li>Booleanos\n",
        "</ol>\n",
        "\n",
        "---\n",
        "\n",
        "\n"
      ],
      "metadata": {
        "id": "XBzr4mhZrOv1"
      }
    },
    {
      "cell_type": "markdown",
      "source": [
        "# **Estudos**"
      ],
      "metadata": {
        "id": "1dzQl87bthDm"
      }
    },
    {
      "cell_type": "markdown",
      "source": [
        "## 1\\. Variáveis"
      ],
      "metadata": {
        "id": "gNiD5G7IvOwm"
      }
    },
    {
      "cell_type": "markdown",
      "source": [
        "### 1.1 Conceito\n",
        "- variavel é um padaço reservado da menoria Ram do seu dispositivo."
      ],
      "metadata": {
        "id": "OSs5PDTdDuCW"
      }
    },
    {
      "cell_type": "markdown",
      "source": [
        "### 1.2 Tipos\n",
        "\n",
        "- Numéricos :\n",
        "inteiros (int),\n",
        "decimais (float)\n",
        "- Textos :\n",
        "string (str)\n",
        "- Lógicos :\n",
        "booleanos (bool)\n",
        "- Vazio :\n",
        "NoneType (None)\n",
        "\n",
        "\n",
        "\n",
        "\n"
      ],
      "metadata": {
        "id": "c61dhsWQEYO3"
      }
    },
    {
      "cell_type": "markdown",
      "source": [
        "## 2\\. Números"
      ],
      "metadata": {
        "id": "cjXSvizKvicW"
      }
    },
    {
      "cell_type": "markdown",
      "source": [
        "### 2.1 Conceito\n",
        "numerico é um tipo de variaveis que armazenam valores numéricos :\n",
        "- int (1)\n",
        "- float (1.5)\n",
        "- complex (1 + 1j)"
      ],
      "metadata": {
        "id": "Zn1l2IEhTjuN"
      }
    },
    {
      "cell_type": "markdown",
      "source": [
        "### 2.2 Operações\n",
        "são as quatro operações basicas e mais três avançadas :\n",
        "- soma (+)\n",
        "- subtração (-)\n",
        "- multiplicação (*)\n",
        "- divisão (/)\n",
        "- divisão inteira (//)\n",
        "- resto da divisão (%)\n",
        "- exponenciação (**)"
      ],
      "metadata": {
        "id": "wyM-NoQlVOdd"
      }
    },
    {
      "cell_type": "markdown",
      "source": [
        "exemplo de soma"
      ],
      "metadata": {
        "id": "2i8HfJjWY4Kc"
      }
    },
    {
      "cell_type": "code",
      "source": [
        "soma = 5 + 1\n",
        "print(soma)"
      ],
      "metadata": {
        "colab": {
          "base_uri": "https://localhost:8080/"
        },
        "id": "GJEixtMAZJJt",
        "outputId": "73209a74-1b97-48d9-e3ce-46b26a6c194a"
      },
      "execution_count": null,
      "outputs": [
        {
          "output_type": "stream",
          "name": "stdout",
          "text": [
            "6\n"
          ]
        }
      ]
    },
    {
      "cell_type": "markdown",
      "source": [
        "exemplo de subtração"
      ],
      "metadata": {
        "id": "s68qHMUCZO0T"
      }
    },
    {
      "cell_type": "code",
      "source": [
        "subtração = 5 - 1\n",
        "print(subtração)"
      ],
      "metadata": {
        "colab": {
          "base_uri": "https://localhost:8080/"
        },
        "id": "7IZcqzv-ZUBK",
        "outputId": "7b55f7f2-5bc2-4085-fd3c-f596ae160270"
      },
      "execution_count": null,
      "outputs": [
        {
          "output_type": "stream",
          "name": "stdout",
          "text": [
            "4\n"
          ]
        }
      ]
    },
    {
      "cell_type": "markdown",
      "source": [
        "exemplo de multiplicação"
      ],
      "metadata": {
        "id": "wYg1mXZ-ZdDa"
      }
    },
    {
      "cell_type": "code",
      "source": [
        "multiplicação = 5 * 1\n",
        "print(multiplicação)"
      ],
      "metadata": {
        "colab": {
          "base_uri": "https://localhost:8080/"
        },
        "id": "LZQi6_RCZjpc",
        "outputId": "d1bfb6c8-c8f0-48ec-b9da-33dcefa4eea3"
      },
      "execution_count": null,
      "outputs": [
        {
          "output_type": "stream",
          "name": "stdout",
          "text": [
            "5\n"
          ]
        }
      ]
    },
    {
      "cell_type": "markdown",
      "source": [
        "exemplo de divisão"
      ],
      "metadata": {
        "id": "DQh8qhCFZrWC"
      }
    },
    {
      "cell_type": "code",
      "source": [
        "divisão = 5 / 2\n",
        "print(divisão)"
      ],
      "metadata": {
        "colab": {
          "base_uri": "https://localhost:8080/"
        },
        "id": "I8grE_nFZvWz",
        "outputId": "b9b6f659-7919-46de-d946-0157ab8849c8"
      },
      "execution_count": null,
      "outputs": [
        {
          "output_type": "stream",
          "name": "stdout",
          "text": [
            "2.5\n"
          ]
        }
      ]
    },
    {
      "cell_type": "markdown",
      "source": [
        "exemplo de divisão inteira"
      ],
      "metadata": {
        "id": "Xg2NC-qjaCr7"
      }
    },
    {
      "cell_type": "code",
      "source": [
        "divisão_inteira = 5 // 2\n",
        "print(divisão_inteira)"
      ],
      "metadata": {
        "colab": {
          "base_uri": "https://localhost:8080/"
        },
        "id": "LU-5HfF6aKz9",
        "outputId": "a2e3aeb9-a8ed-4755-ffb4-5c9d166a2535"
      },
      "execution_count": null,
      "outputs": [
        {
          "output_type": "stream",
          "name": "stdout",
          "text": [
            "2\n"
          ]
        }
      ]
    },
    {
      "cell_type": "markdown",
      "source": [
        "exemplo de resto da divisão"
      ],
      "metadata": {
        "id": "cz-bkhICabNS"
      }
    },
    {
      "cell_type": "code",
      "source": [
        "resto_divisão = 5 % 2\n",
        "print(resto_divisão)"
      ],
      "metadata": {
        "colab": {
          "base_uri": "https://localhost:8080/"
        },
        "id": "wwN8dywnaft9",
        "outputId": "52383b6b-c6ba-4e77-b628-e11d137ac840"
      },
      "execution_count": null,
      "outputs": [
        {
          "output_type": "stream",
          "name": "stdout",
          "text": [
            "1\n"
          ]
        }
      ]
    },
    {
      "cell_type": "markdown",
      "source": [
        "exemplo de exponenciação"
      ],
      "metadata": {
        "id": "d5Y1YDWMaltD"
      }
    },
    {
      "cell_type": "code",
      "source": [
        "exponenciação = 5 ** 2\n",
        "print(exponenciação)"
      ],
      "metadata": {
        "colab": {
          "base_uri": "https://localhost:8080/"
        },
        "id": "SxMDZMtZapeb",
        "outputId": "a93c18f6-d635-46a7-bece-6f52fce9faf0"
      },
      "execution_count": null,
      "outputs": [
        {
          "output_type": "stream",
          "name": "stdout",
          "text": [
            "25\n"
          ]
        }
      ]
    },
    {
      "cell_type": "markdown",
      "source": [
        "### 2.3 Conversão de tipos\n",
        "podemos converter os tipos numéricos utilizando os metodos:\n",
        "- int()\n",
        "- float()\n",
        "- complex()"
      ],
      "metadata": {
        "id": "tFzWZhFWkSPG"
      }
    },
    {
      "cell_type": "markdown",
      "source": [
        "exemplo de conversão de um float para inteiro"
      ],
      "metadata": {
        "id": "MQH1asqdlDVW"
      }
    },
    {
      "cell_type": "code",
      "source": [
        "print(int(1.5))"
      ],
      "metadata": {
        "colab": {
          "base_uri": "https://localhost:8080/"
        },
        "id": "mG0k6p1GlISo",
        "outputId": "7ab907e1-84d4-4a99-e072-8df6b09c78aa"
      },
      "execution_count": null,
      "outputs": [
        {
          "output_type": "stream",
          "name": "stdout",
          "text": [
            "1\n"
          ]
        }
      ]
    },
    {
      "cell_type": "markdown",
      "source": [
        "exemplo de conversão de um inteiro para float"
      ],
      "metadata": {
        "id": "Uir_K0-ZlPiN"
      }
    },
    {
      "cell_type": "code",
      "source": [
        "print(float(1))"
      ],
      "metadata": {
        "colab": {
          "base_uri": "https://localhost:8080/"
        },
        "id": "p-wDSyzFlVSe",
        "outputId": "eecd2446-1256-406a-dc1b-22a18e138374"
      },
      "execution_count": null,
      "outputs": [
        {
          "output_type": "stream",
          "name": "stdout",
          "text": [
            "1.0\n"
          ]
        }
      ]
    },
    {
      "cell_type": "markdown",
      "source": [
        "exemplo de conversão de um inteiro para complexo"
      ],
      "metadata": {
        "id": "g7_dJYxelpQ1"
      }
    },
    {
      "cell_type": "code",
      "source": [
        "# no python a segunda conponente do numero complexo é representada pela letra (j)\n",
        "print(complex(1))"
      ],
      "metadata": {
        "colab": {
          "base_uri": "https://localhost:8080/"
        },
        "id": "v0snMs0rlxmX",
        "outputId": "37f0c6c1-6ec3-4e7d-85bc-d3e5f53a77d5"
      },
      "execution_count": null,
      "outputs": [
        {
          "output_type": "stream",
          "name": "stdout",
          "text": [
            "(1+0j)\n"
          ]
        }
      ]
    },
    {
      "cell_type": "markdown",
      "source": [
        "## 3\\. Strings(str)"
      ],
      "metadata": {
        "id": "H2y8eSzbCOlO"
      }
    },
    {
      "cell_type": "markdown",
      "source": [
        "### 3.1 Conceito\n",
        "  str é uma variavel que armazena texto ou seja um caractere ou uma cadeia de caracteres"
      ],
      "metadata": {
        "id": "GpTh0kf2wdj1"
      }
    },
    {
      "cell_type": "markdown",
      "source": [
        "exemplo de string \"João Cândido\"\n",
        "\n",
        "\n"
      ],
      "metadata": {
        "id": "ECfieVbkyCXT"
      }
    },
    {
      "cell_type": "code",
      "source": [
        "nome = \"João Cândido\"\n",
        "print(nome)\n",
        "print(type(nome))"
      ],
      "metadata": {
        "colab": {
          "base_uri": "https://localhost:8080/"
        },
        "id": "UQlEuxlByF_Y",
        "outputId": "333dfa32-4863-42ec-bdca-dd72c624d471"
      },
      "execution_count": null,
      "outputs": [
        {
          "output_type": "stream",
          "name": "stdout",
          "text": [
            "João Cândido\n",
            "<class 'str'>\n"
          ]
        }
      ]
    },
    {
      "cell_type": "markdown",
      "source": [
        "exemplo de string vazia \"\""
      ],
      "metadata": {
        "id": "c_tdrkc7yO54"
      }
    },
    {
      "cell_type": "code",
      "source": [
        "vazio = \"\"\n",
        "print(vazio)\n",
        "print(type(vazio))"
      ],
      "metadata": {
        "colab": {
          "base_uri": "https://localhost:8080/"
        },
        "id": "0R-qyuzlykPS",
        "outputId": "ab160af4-6263-4704-b6da-c06d23bf6613"
      },
      "execution_count": null,
      "outputs": [
        {
          "output_type": "stream",
          "name": "stdout",
          "text": [
            "\n",
            "<class 'str'>\n"
          ]
        }
      ]
    },
    {
      "cell_type": "markdown",
      "source": [
        "### 3.2 Operações"
      ],
      "metadata": {
        "id": "5hlMwnpxywwL"
      }
    },
    {
      "cell_type": "markdown",
      "source": [
        "- concatenação (+) : utilizando o operador (+) podemos juntar duas ou mais strings"
      ],
      "metadata": {
        "id": "1Y3hGudYy-II"
      }
    },
    {
      "cell_type": "markdown",
      "source": [
        "exemplo de concatenacao de textos"
      ],
      "metadata": {
        "id": "mFocpwO6zd4J"
      }
    },
    {
      "cell_type": "code",
      "source": [
        "nome = \"João\"\n",
        "sobrenome = \" da Silva\"\n",
        "nome_completo = nome + sobrenome\n",
        "print(nome_completo)"
      ],
      "metadata": {
        "colab": {
          "base_uri": "https://localhost:8080/"
        },
        "id": "gyNWqpS9zjOr",
        "outputId": "59c6e940-fccd-4bcb-fed1-d261b4cb4174"
      },
      "execution_count": null,
      "outputs": [
        {
          "output_type": "stream",
          "name": "stdout",
          "text": [
            "João da Silva\n"
          ]
        }
      ]
    },
    {
      "cell_type": "markdown",
      "source": [
        "- formatação : utilizamos o f antes das aspas para juntar strings e variaveis"
      ],
      "metadata": {
        "id": "kv4psNjPZ5Z_"
      }
    },
    {
      "cell_type": "markdown",
      "source": [
        "exemplo de formatação"
      ],
      "metadata": {
        "id": "5CNGenjUa_Cu"
      }
    },
    {
      "cell_type": "code",
      "source": [
        "print(f\"Meu nome é {nome_completo}\")"
      ],
      "metadata": {
        "colab": {
          "base_uri": "https://localhost:8080/"
        },
        "id": "6yeALkFBaUSF",
        "outputId": "bceb93be-4438-485c-8f18-e7e51c9f5d4e"
      },
      "execution_count": null,
      "outputs": [
        {
          "output_type": "stream",
          "name": "stdout",
          "text": [
            "Meu nome é João da Silva\n"
          ]
        }
      ]
    },
    {
      "cell_type": "markdown",
      "source": [
        "- fatiamento(slicing): permite extrair treços de uma string"
      ],
      "metadata": {
        "id": "ckFgrFQ9aqg_"
      }
    },
    {
      "cell_type": "markdown",
      "source": [
        "exemplo de fatiamento fixo e por intervalo\n",
        "\n",
        "|J|o|ã|o| |C|â|n|d|i|d|o|\n",
        "|-|-|-|-|-|-|-|-|-|-|-|-|\n",
        "|0|1|2|3|4|5|6|7|8|9|10|11|\n",
        "|-12|-11 |-10 | -9| -8|-7 |-6 |-5 |-4 |-3 |-2 |-1|"
      ],
      "metadata": {
        "id": "5xPwJ-DrbE6G"
      }
    },
    {
      "cell_type": "code",
      "source": [
        "nome = \"João Cândido\"\n",
        "print(nome[0]) # recorta o primeiro caractere\n",
        "print(nome[11]) # recorta o ultimo caractere\n",
        "print(nome[-1]) # recorta o ultimo caractere\n",
        "print(nome[-12]) # recorta o primeiro caractere\n",
        "print(nome[0:4]) # recorta o intervalo de 0 a 4-1\n",
        "print(nome[5:12]) # recorta o intervalo de 5 a 12-1\n",
        "print(nome[0:12:2]) # recorta o intervalo de 0 a 12-1 pulando de 2 em 2"
      ],
      "metadata": {
        "colab": {
          "base_uri": "https://localhost:8080/"
        },
        "id": "SWrce_FMbIQZ",
        "outputId": "6f427d13-e6de-4b1e-8193-05f896356a70"
      },
      "execution_count": null,
      "outputs": [
        {
          "output_type": "stream",
          "name": "stdout",
          "text": [
            "J\n",
            "o\n",
            "o\n",
            "J\n",
            "João\n",
            "Cândido\n",
            "Jã âdd\n"
          ]
        }
      ]
    },
    {
      "cell_type": "markdown",
      "source": [],
      "metadata": {
        "id": "oIXLGZBceg56"
      }
    },
    {
      "cell_type": "markdown",
      "source": [
        "### 3.3 Métodos\n",
        "- são funções que facilitam a manipular textos em python"
      ],
      "metadata": {
        "id": "qDsdQ_kaihA1"
      }
    },
    {
      "cell_type": "markdown",
      "source": [
        "exemplo de metodo para deixar todo o texto em maiusculo"
      ],
      "metadata": {
        "id": "YfeD2qeHjQbh"
      }
    },
    {
      "cell_type": "code",
      "source": [
        "texto = \"João Cândido\"\n",
        "print(texto.upper())"
      ],
      "metadata": {
        "colab": {
          "base_uri": "https://localhost:8080/"
        },
        "id": "q7ONaoFQjXaZ",
        "outputId": "444f800a-972a-4627-e049-450ea6585db7"
      },
      "execution_count": null,
      "outputs": [
        {
          "output_type": "stream",
          "name": "stdout",
          "text": [
            "JOÃO CÂNDIDO\n"
          ]
        }
      ]
    },
    {
      "cell_type": "markdown",
      "source": [
        "exemplo de metodo para deixar todo o texto em minusculo"
      ],
      "metadata": {
        "id": "LD2rDw1ljjYY"
      }
    },
    {
      "cell_type": "code",
      "source": [
        "texto = \"João cândido\"\n",
        "print(texto.lower())"
      ],
      "metadata": {
        "colab": {
          "base_uri": "https://localhost:8080/"
        },
        "id": "gKhijRYgjpzI",
        "outputId": "d8997944-6c36-4c22-8ef9-a80828917b2f"
      },
      "execution_count": null,
      "outputs": [
        {
          "output_type": "stream",
          "name": "stdout",
          "text": [
            "joão cândido\n"
          ]
        }
      ]
    },
    {
      "cell_type": "markdown",
      "source": [
        "exemplo de metodo para deixar as primeiras letras das palavras em maiusculo"
      ],
      "metadata": {
        "id": "cf4ZX_Fpj8bD"
      }
    },
    {
      "cell_type": "code",
      "source": [
        "texto = \"joão cândido da silva\"\n",
        "print(texto.title())"
      ],
      "metadata": {
        "colab": {
          "base_uri": "https://localhost:8080/"
        },
        "id": "HLbpPFPCkHRJ",
        "outputId": "0c02adc0-ff01-43f5-9c1f-f3217557cd1f"
      },
      "execution_count": null,
      "outputs": [
        {
          "output_type": "stream",
          "name": "stdout",
          "text": [
            "João Cândido Da Silva\n"
          ]
        }
      ]
    },
    {
      "cell_type": "markdown",
      "source": [
        "exemplo de metodo para procurar a posição de um intervalo dentro da string\n",
        "\n",
        "|J|o|ã|o| |C|â|n|d|i|d|o|\n",
        "|-|-|-|-|-|-|-|-|-|-|-|-|\n",
        "|0|1|2|3|4|5|6|7|8|9|10|11|\n",
        "|-12|-11 |-10 | -9| -8|-7 |-6 |-5 |-4 |-3 |-2 |-1|\n",
        "\n"
      ],
      "metadata": {
        "id": "WMkWZgN6kmD0"
      }
    },
    {
      "cell_type": "code",
      "source": [
        "texto = \"João Cândido\"\n",
        "print(texto.find(\"João\")) # ele pega a posição apartir do primeiro caractere\n",
        "print(texto.find(\"Cândido\"))\n",
        "print(texto.find(\"Silva\")) # quando nao encontra o intervalo  retorna -1"
      ],
      "metadata": {
        "colab": {
          "base_uri": "https://localhost:8080/"
        },
        "id": "_siW4mM6k2hz",
        "outputId": "3682bcb8-0b08-42ed-e479-2125c4af3438"
      },
      "execution_count": null,
      "outputs": [
        {
          "output_type": "stream",
          "name": "stdout",
          "text": [
            "0\n",
            "5\n",
            "-1\n"
          ]
        }
      ]
    },
    {
      "cell_type": "markdown",
      "source": [
        "exemplo de metodo para subistituir um caractere dentro da string"
      ],
      "metadata": {
        "id": "G-NC8vagmS_x"
      }
    },
    {
      "cell_type": "code",
      "source": [
        "email = \"  Joao@ candido  \"\n",
        "print(email.replace(\" \",\"\")) # substitue o primeiro caractere pelo segundo"
      ],
      "metadata": {
        "colab": {
          "base_uri": "https://localhost:8080/"
        },
        "id": "5XpHOvZEmb1K",
        "outputId": "5c7b4c60-87c6-426f-ce3b-6d68633c2f5f"
      },
      "execution_count": null,
      "outputs": [
        {
          "output_type": "stream",
          "name": "stdout",
          "text": [
            "Joao@candido\n"
          ]
        }
      ]
    },
    {
      "cell_type": "markdown",
      "source": [
        "### 3.4 conversão de tipos\n",
        "exemplo de conversão de strings em numeros"
      ],
      "metadata": {
        "id": "lPV9vpuxoOT8"
      }
    },
    {
      "cell_type": "code",
      "source": [
        "ano = \"2024\"\n",
        "print(int(ano))\n",
        "print(float(ano))"
      ],
      "metadata": {
        "colab": {
          "base_uri": "https://localhost:8080/"
        },
        "id": "Z4liWECXolv7",
        "outputId": "3d2bfad7-8139-47cf-cd5a-8f0b4a12050e"
      },
      "execution_count": null,
      "outputs": [
        {
          "output_type": "stream",
          "name": "stdout",
          "text": [
            "2024\n",
            "2024.0\n"
          ]
        }
      ]
    },
    {
      "cell_type": "markdown",
      "source": [
        "exemplo de conversão de numeros em string"
      ],
      "metadata": {
        "id": "KESXya_xpUDy"
      }
    },
    {
      "cell_type": "code",
      "source": [
        "idade = 18\n",
        "print(str(idade))"
      ],
      "metadata": {
        "colab": {
          "base_uri": "https://localhost:8080/"
        },
        "id": "EMoijEeapZWE",
        "outputId": "7c3e857e-e843-4a3e-f65f-182ae0713545"
      },
      "execution_count": null,
      "outputs": [
        {
          "output_type": "stream",
          "name": "stdout",
          "text": [
            "18\n"
          ]
        }
      ]
    },
    {
      "cell_type": "markdown",
      "source": [
        "## 4\\. Booleanos(bool)"
      ],
      "metadata": {
        "id": "a1WXHggjCavm"
      }
    },
    {
      "cell_type": "markdown",
      "source": [
        "### 4.1 Conceito"
      ],
      "metadata": {
        "id": "0weEcgcYqUOy"
      }
    },
    {
      "cell_type": "markdown",
      "source": [
        "tipo que armazena valores lógicos:\n",
        "- True (Verdadeiro)\n",
        "- False(Falso)"
      ],
      "metadata": {
        "id": "WUSqO3yeqyyq"
      }
    },
    {
      "cell_type": "markdown",
      "source": [
        "variaveis booleanas são resultado de comparações logicas:\n",
        "- maior (>)\n",
        "- maior ou igual (>=)\n",
        "- menor (<)\n",
        "- menor ou igual (<=)\n",
        "- igual (==)\n",
        "- diferente (!=)"
      ],
      "metadata": {
        "id": "WArx2lkwrj_7"
      }
    },
    {
      "cell_type": "markdown",
      "source": [
        "exemplos de comparações com operadores logicos"
      ],
      "metadata": {
        "id": "0da9NIxtsiqm"
      }
    },
    {
      "cell_type": "code",
      "source": [
        "5 > 3"
      ],
      "metadata": {
        "colab": {
          "base_uri": "https://localhost:8080/"
        },
        "id": "UPCnZYBHtNmb",
        "outputId": "79d9ac12-1e7b-453d-c623-642db43e7fc7"
      },
      "execution_count": null,
      "outputs": [
        {
          "output_type": "execute_result",
          "data": {
            "text/plain": [
              "True"
            ]
          },
          "metadata": {},
          "execution_count": 97
        }
      ]
    },
    {
      "cell_type": "code",
      "source": [
        "5 >= 3"
      ],
      "metadata": {
        "colab": {
          "base_uri": "https://localhost:8080/"
        },
        "id": "V444bQ2Tt2Dk",
        "outputId": "a3dcc9ce-f5a4-44c9-a0ed-fa6d67c55054"
      },
      "execution_count": null,
      "outputs": [
        {
          "output_type": "execute_result",
          "data": {
            "text/plain": [
              "True"
            ]
          },
          "metadata": {},
          "execution_count": 98
        }
      ]
    },
    {
      "cell_type": "code",
      "source": [
        "5 < 3"
      ],
      "metadata": {
        "colab": {
          "base_uri": "https://localhost:8080/"
        },
        "id": "F22njXeot6l0",
        "outputId": "73fec950-5b01-4315-da8c-8ddafe4aa928"
      },
      "execution_count": null,
      "outputs": [
        {
          "output_type": "execute_result",
          "data": {
            "text/plain": [
              "False"
            ]
          },
          "metadata": {},
          "execution_count": 99
        }
      ]
    },
    {
      "cell_type": "code",
      "source": [
        "5 <= 3"
      ],
      "metadata": {
        "colab": {
          "base_uri": "https://localhost:8080/"
        },
        "id": "TWgaCnmgt9Ej",
        "outputId": "6e9fa7be-6e11-4a5e-9c29-6f28ed967fca"
      },
      "execution_count": null,
      "outputs": [
        {
          "output_type": "execute_result",
          "data": {
            "text/plain": [
              "False"
            ]
          },
          "metadata": {},
          "execution_count": 100
        }
      ]
    },
    {
      "cell_type": "code",
      "source": [
        "5 == 3"
      ],
      "metadata": {
        "colab": {
          "base_uri": "https://localhost:8080/"
        },
        "id": "qlc8qSKJuAMr",
        "outputId": "3b0105b0-5e5f-439b-b391-d4fb819c42e5"
      },
      "execution_count": null,
      "outputs": [
        {
          "output_type": "execute_result",
          "data": {
            "text/plain": [
              "False"
            ]
          },
          "metadata": {},
          "execution_count": 101
        }
      ]
    },
    {
      "cell_type": "code",
      "source": [
        "5 != 3"
      ],
      "metadata": {
        "colab": {
          "base_uri": "https://localhost:8080/"
        },
        "id": "8QOzm7gsuDCL",
        "outputId": "bcac13ef-b169-4d38-e45c-dfbe9c34a220"
      },
      "execution_count": null,
      "outputs": [
        {
          "output_type": "execute_result",
          "data": {
            "text/plain": [
              "True"
            ]
          },
          "metadata": {},
          "execution_count": 102
        }
      ]
    },
    {
      "cell_type": "markdown",
      "source": [
        "### 4.2 Operações\n",
        "operadores logicos:\n",
        "- operador ou   (|)\n",
        "- operador e    (&)\n",
        "- operador não (not)"
      ],
      "metadata": {
        "id": "4rsPx5f8qbl1"
      }
    },
    {
      "cell_type": "markdown",
      "source": [
        "tabela verdade\n",
        "\n",
        "| X        | Y        | | | X OR Y   | | X AND Y  | | NOT X    |\n",
        "|----------|----------|-|-|----------|-|----------|-|----------|\n",
        "| **TRUE** | **TRUE** | | | **TRUE** | | **TRUE** | | FALSE    |\n",
        "| **TRUE** | FALSE    | | | **TRUE** | | FALSE    | | FALSE    |\n",
        "| FALSE    | FALSE    | | | FALSE    | | FALSE    | | **TRUE** |\n",
        "| FALSE    | **TRUE** | | | **TRUE** | | FALSE    | | **TRUE** |"
      ],
      "metadata": {
        "id": "Y1Wz1lcOv6AD"
      }
    }
  ]
}